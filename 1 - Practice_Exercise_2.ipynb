{
 "cells": [
  {
   "cell_type": "markdown",
   "metadata": {},
   "source": [
    "1. Ask user to enter a string and check that it is made up only alphabets:"
   ]
  },
  {
   "cell_type": "code",
   "execution_count": 2,
   "metadata": {},
   "outputs": [
    {
     "name": "stdout",
     "output_type": "stream",
     "text": [
      "The string contains only alphabets.\n"
     ]
    }
   ],
   "source": [
    "\n",
    "user_input = input(\"Enter a string: \")\n",
    "\n",
    "\n",
    "if user_input.isalpha():\n",
    "    print(\"The string contains only alphabets.\")\n",
    "else:\n",
    "    print(\"The string contains characters other than alphabets.\")\n"
   ]
  },
  {
   "cell_type": "markdown",
   "metadata": {},
   "source": [
    "2. Now, make sure that the string is made up of both alphabets and numbers:\n",
    "\n",
    "TRY using isalnum() function and then entering only alhpabets in the string and see what happens."
   ]
  },
  {
   "cell_type": "code",
   "execution_count": 3,
   "metadata": {},
   "outputs": [
    {
     "name": "stdout",
     "output_type": "stream",
     "text": [
      "The string does not contain both alphabets and numbers.\n"
     ]
    }
   ],
   "source": [
    "user_input = input(\"Enter a string: \")\n",
    "\n",
    "\n",
    "if user_input.isalnum() and any(char.isalpha() for char in user_input) and any(char.isdigit() for char in user_input):\n",
    "    print(\"The string contains both alphabets and numbers.\")\n",
    "else:\n",
    "    print(\"The string does not contain both alphabets and numbers.\")"
   ]
  },
  {
   "cell_type": "markdown",
   "metadata": {},
   "source": [
    "3. Now, make sure that the string is made up of both alphabets and at least one number:\n"
   ]
  },
  {
   "cell_type": "code",
   "execution_count": 4,
   "metadata": {},
   "outputs": [
    {
     "name": "stdout",
     "output_type": "stream",
     "text": [
      "The string does not contain both alphabets and at least one number.\n"
     ]
    }
   ],
   "source": [
    "user_input = input(\"Enter a string: \")\n",
    "\n",
    "\n",
    "has_alpha = any(char.isalpha() for char in user_input)\n",
    "has_digit = any(char.isdigit() for char in user_input)\n",
    "\n",
    "if has_alpha and has_digit:\n",
    "    print(\"The string contains both alphabets and at least one number.\")\n",
    "else:\n",
    "    print(\"The string does not contain both alphabets and at least one number.\")\n"
   ]
  },
  {
   "cell_type": "markdown",
   "metadata": {},
   "source": [
    "4. Now, make sure that the string is made up of both alphabets, at least one number, and at least one special character:"
   ]
  },
  {
   "cell_type": "code",
   "execution_count": 5,
   "metadata": {},
   "outputs": [
    {
     "name": "stdout",
     "output_type": "stream",
     "text": [
      "The string does not meet all the criteria.\n"
     ]
    }
   ],
   "source": [
    "import string\n",
    "\n",
    "\n",
    "user_input = input(\"Enter a string: \")\n",
    "\n",
    "\n",
    "special_characters = set(string.punctuation)\n",
    "\n",
    "\n",
    "has_alpha = any(char.isalpha() for char in user_input)\n",
    "has_digit = any(char.isdigit() for char in user_input)\n",
    "has_special = any(char in special_characters for char in user_input)\n",
    "\n",
    "if has_alpha and has_digit and has_special:\n",
    "    print(\"The string contains alphabets, at least one number, and at least one special character.\")\n",
    "else:\n",
    "    print(\"The string does not meet all the criteria.\")"
   ]
  },
  {
   "cell_type": "markdown",
   "metadata": {},
   "source": [
    "5. Now, modify the above code so that if the user enters an invalid string, the program should ask the user to enter another string again, and keep asking until a valid string has been entered."
   ]
  },
  {
   "cell_type": "code",
   "execution_count": 6,
   "metadata": {},
   "outputs": [
    {
     "name": "stdout",
     "output_type": "stream",
     "text": [
      "The string does not meet all the criteria. Please try again.\n",
      "The string does not meet all the criteria. Please try again.\n",
      "The string does not meet all the criteria. Please try again.\n",
      "The string does not meet all the criteria. Please try again.\n",
      "The string does not meet all the criteria. Please try again.\n",
      "The string does not meet all the criteria. Please try again.\n",
      "The string does not meet all the criteria. Please try again.\n",
      "The string does not meet all the criteria. Please try again.\n",
      "The string does not meet all the criteria. Please try again.\n",
      "The string does not meet all the criteria. Please try again.\n",
      "The string does not meet all the criteria. Please try again.\n",
      "The string does not meet all the criteria. Please try again.\n",
      "The string does not meet all the criteria. Please try again.\n",
      "The string does not meet all the criteria. Please try again.\n",
      "The string does not meet all the criteria. Please try again.\n",
      "The string does not meet all the criteria. Please try again.\n",
      "The string does not meet all the criteria. Please try again.\n",
      "The string contains alphabets, at least one number, and at least one special character.\n"
     ]
    }
   ],
   "source": [
    "import string\n",
    "\n",
    "\n",
    "special_characters = set(string.punctuation)\n",
    "\n",
    "def is_valid_string(s):\n",
    "    \"\"\"Check if the string contains alphabets, at least one number, and at least one special character.\"\"\"\n",
    "    has_alpha = any(char.isalpha() for char in s)\n",
    "    has_digit = any(char.isdigit() for char in s)\n",
    "    has_special = any(char in special_characters for char in s)\n",
    "    return has_alpha and has_digit and has_special\n",
    "\n",
    "\n",
    "while True:\n",
    "   \n",
    "    user_input = input(\"Enter a string: \")\n",
    "    \n",
    "    \n",
    "    if is_valid_string(user_input):\n",
    "        print(\"The string contains alphabets, at least one number, and at least one special character.\")\n",
    "        break  \n",
    "    else:\n",
    "        print(\"The string does not meet all the criteria. Please try again.\")"
   ]
  }
 ],
 "metadata": {
  "kernelspec": {
   "display_name": "Python 3",
   "language": "python",
   "name": "python3"
  },
  "language_info": {
   "codemirror_mode": {
    "name": "ipython",
    "version": 3
   },
   "file_extension": ".py",
   "mimetype": "text/x-python",
   "name": "python",
   "nbconvert_exporter": "python",
   "pygments_lexer": "ipython3",
   "version": "3.8.10"
  }
 },
 "nbformat": 4,
 "nbformat_minor": 2
}
